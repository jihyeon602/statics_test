{
  "cells": [
    {
      "cell_type": "markdown",
      "metadata": {
        "id": "view-in-github",
        "colab_type": "text"
      },
      "source": [
        "<a href=\"https://colab.research.google.com/github/jihyeon602/Statics-Machine_Learning/blob/main/ml_reg_oecd_bli.ipynb\" target=\"_parent\"><img src=\"https://colab.research.google.com/assets/colab-badge.svg\" alt=\"Open In Colab\"/></a>"
      ]
    },
    {
      "cell_type": "markdown",
      "metadata": {
        "id": "9LbtdzIIC1KF"
      },
      "source": [
        "# 1. 한눈에 보는 머신러닝"
      ]
    },
    {
      "cell_type": "markdown",
      "metadata": {
        "id": "LHGDi6R-C1KI"
      },
      "source": [
        "__참고:__ 오렐리앙 제롱의 [<핸즈온 머신러닝(2판)>](https://github.com/ageron/handson-ml2)\n",
        "1장의 소스코드를 사용합니다."
      ]
    },
    {
      "cell_type": "markdown",
      "metadata": {
        "id": "0eStRwPMC1KJ"
      },
      "source": [
        "## 주요 내용"
      ]
    },
    {
      "cell_type": "markdown",
      "metadata": {
        "id": "e8EL4SpeC1KJ"
      },
      "source": [
        "1인당 [GDP(국내총생산)](https://ko.wikipedia.org/wiki/%EA%B5%AD%EB%82%B4%EC%B4%9D%EC%83%9D%EC%82%B0)와 삶의 만족도 사이의\n",
        "선형 관계를 예측하는 모델의 훈련과정을 자세하게 소개한다."
      ]
    },
    {
      "cell_type": "markdown",
      "metadata": {
        "id": "FK9lwyREC1KJ"
      },
      "source": [
        "**참고**\n",
        "\n",
        "핸즈온 머신러닝(3판)은 2020년 데이터를 사용하지만 여기서는 2판에서 사용하는 2015년도 데이터를 사용한다.\n",
        "2020년 데이터는 [연습문제](https://colab.research.google.com/github/codingalzi/handson-ml3/blob/master/practices/practice_ml_landscape.ipynb)에서 다룬다."
      ]
    },
    {
      "cell_type": "markdown",
      "metadata": {
        "id": "i3VsdS7c_yut"
      },
      "source": [
        "## 기본 설정"
      ]
    },
    {
      "cell_type": "markdown",
      "metadata": {
        "id": "F1CPYM7dC1KK"
      },
      "source": [
        "파이썬 3.7 이상을 요구한다."
      ]
    },
    {
      "cell_type": "code",
      "execution_count": null,
      "metadata": {
        "id": "cZmuxunSC1KK"
      },
      "outputs": [],
      "source": [
        "import sys\n",
        "assert sys.version_info >= (3, 7)"
      ]
    },
    {
      "cell_type": "markdown",
      "metadata": {
        "id": "AgKrdUOYC1KL"
      },
      "source": [
        "넘파이와 판다스 모듈은 필수적이다."
      ]
    },
    {
      "cell_type": "code",
      "execution_count": null,
      "metadata": {
        "id": "Pkthf-FMdXbW"
      },
      "outputs": [],
      "source": [
        "# 모듈: 넘파이와 판다스\n",
        "import numpy as np\n",
        "import pandas as pd"
      ]
    },
    {
      "cell_type": "markdown",
      "metadata": {
        "id": "pXm2da7xC1KL"
      },
      "source": [
        "머신러닝 모델은 무작위 선택을 실행한다.\n",
        "실행 결과를 매번 동일하게 유지하기 위해 랜덤 시드를 지정한다."
      ]
    },
    {
      "cell_type": "code",
      "execution_count": null,
      "metadata": {
        "id": "u3CSzVKzC1KL"
      },
      "outputs": [],
      "source": [
        "# 랜덤 시드 설정: 동일한 실행 결과 얻기\n",
        "np.random.seed(42)"
      ]
    },
    {
      "cell_type": "markdown",
      "metadata": {
        "id": "AKi74CPkC1KM"
      },
      "source": [
        "그래프 출력에 필요한 기본 설정을 지정한다."
      ]
    },
    {
      "cell_type": "code",
      "execution_count": null,
      "metadata": {
        "id": "zhaGTBv2C1KM"
      },
      "outputs": [],
      "source": [
        "# 그래프 출력 설정\n",
        "import matplotlib.pyplot as plt\n",
        "\n",
        "plt.rc('font', size=12)\n",
        "plt.rc('axes', labelsize=14, titlesize=14)\n",
        "plt.rc('legend', fontsize=12)\n",
        "plt.rc('xtick', labelsize=10)\n",
        "plt.rc('ytick', labelsize=10)"
      ]
    },
    {
      "cell_type": "markdown",
      "metadata": {
        "id": "u89IMVtLVOjN"
      },
      "source": [
        "판다스 기본 설정"
      ]
    },
    {
      "cell_type": "code",
      "execution_count": null,
      "metadata": {
        "id": "aTX9oDbqVR0_"
      },
      "outputs": [],
      "source": [
        "pd.set_option('display.max_columns', None)"
      ]
    },
    {
      "cell_type": "markdown",
      "metadata": {
        "id": "ZWo2mNCGC1KM"
      },
      "source": [
        "## 선형 회귀 모델 구현"
      ]
    },
    {
      "cell_type": "markdown",
      "metadata": {
        "id": "faY9oFaPC1KM"
      },
      "source": [
        "선형 회귀 모델의 구현과정은 일반적으로 아래 다섯 단계로 이루어진다.\n",
        "\n",
        "1. 문제 정의\n",
        "1. 데이터 구하기\n",
        "1. 데이터 적재, 정제, 전처리\n",
        "1. 모델 선택과 훈련\n",
        "1. 모델 활용"
      ]
    },
    {
      "cell_type": "markdown",
      "metadata": {
        "id": "_lVvXk2aah6v"
      },
      "source": [
        "### 1단계: 문제 정의"
      ]
    },
    {
      "cell_type": "markdown",
      "metadata": {
        "id": "OgvHisuGC1KM"
      },
      "source": [
        "어느 국가의 1인당 GDP가 알려졌을 때 해당 국가의 삶의 만족도를 예측하는 모델을 구현해야 한다."
      ]
    },
    {
      "cell_type": "markdown",
      "metadata": {
        "id": "3Q6VS4Q0C1KM"
      },
      "source": [
        "### 2단계: 데이터 구하기"
      ]
    },
    {
      "cell_type": "markdown",
      "metadata": {
        "id": "UH3a-VlafLIh"
      },
      "source": [
        "모델 훈련에 사용되는 훈련 셋은 __입력__ 데이터 셋과\n",
        "__타깃__<font size=\"2\">target</font> 데이터 셋으로 구분된다.\n",
        "모델 훈련은 입력 데이터와 타깃 데이터 사이의 관계를 가장 적절하게\n",
        "묘사하는 모델을 학습하는 과정이다."
      ]
    },
    {
      "cell_type": "markdown",
      "metadata": {
        "id": "7MphB0vKC1KN"
      },
      "source": [
        "1인당 GDP와 삶의 만족도 사이의 관계를 가장 적절하게 묘사하는 모델의 훈련에\n",
        "사용되는 훈련 셋은 다음과 같다.\n",
        "\n",
        "- 입력 데이터\n",
        "    - 국가별 1인당 GDP 데이터\n",
        "    - 출처: [국제통화기금(IMF)](https://ko.wikipedia.org/wiki/%EA%B5%AD%EC%A0%9C_%ED%86%B5%ED%99%94_%EA%B8%B0%EA%B8%88#:~:text=%EA%B5%AD%EC%A0%9C%20%ED%86%B5%ED%99%94%20%EA%B8%B0%EA%B8%88(%E5%9C%8B%E9%9A%9B%E9%80%9A%E8%B2%A8,%EC%9C%84%EC%9E%84%EB%B0%9B%EC%9D%80%20%EA%B5%AD%EC%A0%9C%20%EA%B8%B0%EA%B5%AC%EC%9D%B4%EB%8B%A4.)의\n",
        "['세계 경제전망 데이터베이스'](http://goo.gl/j1MSKe).\n",
        "- 타깃 데이터\n",
        "    - [OECD](https://ko.wikipedia.org/wiki/%EA%B2%BD%EC%A0%9C%ED%98%91%EB%A0%A5%EA%B0%9C%EB%B0%9C%EA%B8%B0%EA%B5%AC)\n",
        "    회원 국가별 '삶의 만족도'(life satisfaction) 데이터\n",
        "    - 출처: OECD의\n",
        "        ['더 나은 삶의 지수'(BLI, Better Life Index)](https://stats.oecd.org/Index.aspx?DataSetCode=BLI)."
      ]
    },
    {
      "cell_type": "markdown",
      "metadata": {
        "id": "u2gTcuoeC1KN"
      },
      "source": [
        "훈련 데이터 구하는 과정을 여기서는\n",
        "특정 서버에 저장된 다음 두 개의 csv 파일을 다운로드하는 것으로 대체한다.\n",
        "\n",
        "* gdp_per_capita_2015.csv\n",
        "    - IMF(국제통화기금)에 제공하는 1인당 국내총생산 데이터(GDP) 데이터\n",
        "* oecd_bli_2015.csv\n",
        "    - 2015년도 기준 OECD 국가들의 '더 나은 삶의 지수'(BLI) 데이터"
      ]
    },
    {
      "cell_type": "markdown",
      "metadata": {
        "id": "kRfyzb-iC1KN"
      },
      "source": [
        "최종적으로 아래 표와 같은 데이터를 생성해야 하는데 언급된 데이터 파일을 다운로드 하면 전혀\n",
        "다른 모양의 데이터가 파일에 포함되어 있다.\n",
        "이어지는 3단계는 원본 데이터 파일에서 아래 모양의 표를 어떻게 유도해내는 과정을 자세히 보여준다.\n",
        "하지만 과정이 조금 복잡하기에 여기서는 건너 뛴다.\n",
        "자세한 내용은 [보다 자세히 설명된 주피터 노트북](https://colab.research.google.com/github/codingalzi/handson-ml3/blob/master/notebooks/code_ml_landscape.ipynb)을 참고한다."
      ]
    },
    {
      "cell_type": "markdown",
      "metadata": {
        "id": "j1zJtQnCGE-I"
      },
      "source": [
        "<p><div align=\"center\"><img src=\"https://github.com/codingalzi/handson-ml3/blob/master/jupyter-book/imgs/ch01/gdp-bli-2015.png?raw=true\" style=\"width:350px;\"></div></p>"
      ]
    },
    {
      "cell_type": "markdown",
      "metadata": {
        "id": "1oKdsRdEfLIh"
      },
      "source": [
        "### 3단계: 데이터 적재, 정제, 전처리"
      ]
    },
    {
      "cell_type": "markdown",
      "metadata": {
        "id": "Yge921G8GE-I"
      },
      "source": [
        "여기서는 위 내용의 데이터가 csv 파일로 저장되어 있다고 가정하고\n",
        "다운로드 형식으로 불러온 다음에 선형 머신러닝 모델의 훈련을 위한 데이터 준비와 훈련을 진행한다.\n",
        "\n",
        "데이터가 저장된 서버 주소는 다음과 같다."
      ]
    },
    {
      "cell_type": "code",
      "execution_count": null,
      "metadata": {
        "id": "WgXBPlpEGE-I"
      },
      "outputs": [],
      "source": [
        "datapath = \"https://raw.githubusercontent.com/codingalzi/handson-ml3/master/notebooks/data/lifesat/\""
      ]
    },
    {
      "cell_type": "markdown",
      "metadata": {
        "id": "cM32IyNSvGBi"
      },
      "source": [
        "### 4단계: OECD 회원국의 GDP 데이터와 삶의 만족도 데이터"
      ]
    },
    {
      "cell_type": "code",
      "execution_count": null,
      "metadata": {
        "id": "k7fmzEcvvGBi",
        "outputId": "18022725-345b-49b2-97e2-48bd9f25224c"
      },
      "outputs": [
        {
          "data": {
            "text/html": [
              "<div>\n",
              "<style scoped>\n",
              "    .dataframe tbody tr th:only-of-type {\n",
              "        vertical-align: middle;\n",
              "    }\n",
              "\n",
              "    .dataframe tbody tr th {\n",
              "        vertical-align: top;\n",
              "    }\n",
              "\n",
              "    .dataframe thead th {\n",
              "        text-align: right;\n",
              "    }\n",
              "</style>\n",
              "<table border=\"1\" class=\"dataframe\">\n",
              "  <thead>\n",
              "    <tr style=\"text-align: right;\">\n",
              "      <th></th>\n",
              "      <th>Country</th>\n",
              "      <th>GDP per capita</th>\n",
              "      <th>Life satisfaction</th>\n",
              "    </tr>\n",
              "  </thead>\n",
              "  <tbody>\n",
              "    <tr>\n",
              "      <th>0</th>\n",
              "      <td>Australia</td>\n",
              "      <td>50961.865</td>\n",
              "      <td>7.3</td>\n",
              "    </tr>\n",
              "    <tr>\n",
              "      <th>1</th>\n",
              "      <td>Austria</td>\n",
              "      <td>43724.031</td>\n",
              "      <td>6.9</td>\n",
              "    </tr>\n",
              "    <tr>\n",
              "      <th>2</th>\n",
              "      <td>Belgium</td>\n",
              "      <td>40106.632</td>\n",
              "      <td>6.9</td>\n",
              "    </tr>\n",
              "    <tr>\n",
              "      <th>3</th>\n",
              "      <td>Brazil</td>\n",
              "      <td>8669.998</td>\n",
              "      <td>7.0</td>\n",
              "    </tr>\n",
              "    <tr>\n",
              "      <th>4</th>\n",
              "      <td>Canada</td>\n",
              "      <td>43331.961</td>\n",
              "      <td>7.3</td>\n",
              "    </tr>\n",
              "  </tbody>\n",
              "</table>\n",
              "</div>"
            ],
            "text/plain": [
              "     Country  GDP per capita  Life satisfaction\n",
              "0  Australia       50961.865                7.3\n",
              "1    Austria       43724.031                6.9\n",
              "2    Belgium       40106.632                6.9\n",
              "3     Brazil        8669.998                7.0\n",
              "4     Canada       43331.961                7.3"
            ]
          },
          "execution_count": 7,
          "metadata": {},
          "output_type": "execute_result"
        }
      ],
      "source": [
        "oecd_country_stats = pd.read_csv(datapath + \"oecd_bli_gdp_per_capita.csv\")\n",
        "oecd_country_stats.head()"
      ]
    },
    {
      "cell_type": "code",
      "execution_count": null,
      "metadata": {
        "id": "2C4QC4KYGE-J",
        "outputId": "912ac2a8-7cea-4ad7-fa56-1f60bba07f82"
      },
      "outputs": [
        {
          "data": {
            "text/html": [
              "<div>\n",
              "<style scoped>\n",
              "    .dataframe tbody tr th:only-of-type {\n",
              "        vertical-align: middle;\n",
              "    }\n",
              "\n",
              "    .dataframe tbody tr th {\n",
              "        vertical-align: top;\n",
              "    }\n",
              "\n",
              "    .dataframe thead th {\n",
              "        text-align: right;\n",
              "    }\n",
              "</style>\n",
              "<table border=\"1\" class=\"dataframe\">\n",
              "  <thead>\n",
              "    <tr style=\"text-align: right;\">\n",
              "      <th></th>\n",
              "      <th>Country</th>\n",
              "      <th>GDP per capita</th>\n",
              "      <th>Life satisfaction</th>\n",
              "    </tr>\n",
              "  </thead>\n",
              "  <tbody>\n",
              "    <tr>\n",
              "      <th>0</th>\n",
              "      <td>Australia</td>\n",
              "      <td>50961.865</td>\n",
              "      <td>7.3</td>\n",
              "    </tr>\n",
              "    <tr>\n",
              "      <th>1</th>\n",
              "      <td>Austria</td>\n",
              "      <td>43724.031</td>\n",
              "      <td>6.9</td>\n",
              "    </tr>\n",
              "    <tr>\n",
              "      <th>2</th>\n",
              "      <td>Belgium</td>\n",
              "      <td>40106.632</td>\n",
              "      <td>6.9</td>\n",
              "    </tr>\n",
              "    <tr>\n",
              "      <th>3</th>\n",
              "      <td>Brazil</td>\n",
              "      <td>8669.998</td>\n",
              "      <td>7.0</td>\n",
              "    </tr>\n",
              "    <tr>\n",
              "      <th>4</th>\n",
              "      <td>Canada</td>\n",
              "      <td>43331.961</td>\n",
              "      <td>7.3</td>\n",
              "    </tr>\n",
              "    <tr>\n",
              "      <th>5</th>\n",
              "      <td>Chile</td>\n",
              "      <td>13340.905</td>\n",
              "      <td>6.7</td>\n",
              "    </tr>\n",
              "    <tr>\n",
              "      <th>6</th>\n",
              "      <td>Czech Republic</td>\n",
              "      <td>17256.918</td>\n",
              "      <td>6.5</td>\n",
              "    </tr>\n",
              "    <tr>\n",
              "      <th>7</th>\n",
              "      <td>Denmark</td>\n",
              "      <td>52114.165</td>\n",
              "      <td>7.5</td>\n",
              "    </tr>\n",
              "    <tr>\n",
              "      <th>8</th>\n",
              "      <td>Estonia</td>\n",
              "      <td>17288.083</td>\n",
              "      <td>5.6</td>\n",
              "    </tr>\n",
              "    <tr>\n",
              "      <th>9</th>\n",
              "      <td>Finland</td>\n",
              "      <td>41973.988</td>\n",
              "      <td>7.4</td>\n",
              "    </tr>\n",
              "    <tr>\n",
              "      <th>10</th>\n",
              "      <td>France</td>\n",
              "      <td>37675.006</td>\n",
              "      <td>6.5</td>\n",
              "    </tr>\n",
              "    <tr>\n",
              "      <th>11</th>\n",
              "      <td>Germany</td>\n",
              "      <td>40996.511</td>\n",
              "      <td>7.0</td>\n",
              "    </tr>\n",
              "    <tr>\n",
              "      <th>12</th>\n",
              "      <td>Greece</td>\n",
              "      <td>18064.288</td>\n",
              "      <td>4.8</td>\n",
              "    </tr>\n",
              "    <tr>\n",
              "      <th>13</th>\n",
              "      <td>Hungary</td>\n",
              "      <td>12239.894</td>\n",
              "      <td>4.9</td>\n",
              "    </tr>\n",
              "    <tr>\n",
              "      <th>14</th>\n",
              "      <td>Iceland</td>\n",
              "      <td>50854.583</td>\n",
              "      <td>7.5</td>\n",
              "    </tr>\n",
              "    <tr>\n",
              "      <th>15</th>\n",
              "      <td>Ireland</td>\n",
              "      <td>51350.744</td>\n",
              "      <td>7.0</td>\n",
              "    </tr>\n",
              "    <tr>\n",
              "      <th>16</th>\n",
              "      <td>Israel</td>\n",
              "      <td>35343.336</td>\n",
              "      <td>7.4</td>\n",
              "    </tr>\n",
              "    <tr>\n",
              "      <th>17</th>\n",
              "      <td>Italy</td>\n",
              "      <td>29866.581</td>\n",
              "      <td>6.0</td>\n",
              "    </tr>\n",
              "    <tr>\n",
              "      <th>18</th>\n",
              "      <td>Japan</td>\n",
              "      <td>32485.545</td>\n",
              "      <td>5.9</td>\n",
              "    </tr>\n",
              "    <tr>\n",
              "      <th>19</th>\n",
              "      <td>Korea</td>\n",
              "      <td>27195.197</td>\n",
              "      <td>5.8</td>\n",
              "    </tr>\n",
              "    <tr>\n",
              "      <th>20</th>\n",
              "      <td>Luxembourg</td>\n",
              "      <td>101994.093</td>\n",
              "      <td>6.9</td>\n",
              "    </tr>\n",
              "    <tr>\n",
              "      <th>21</th>\n",
              "      <td>Mexico</td>\n",
              "      <td>9009.280</td>\n",
              "      <td>6.7</td>\n",
              "    </tr>\n",
              "    <tr>\n",
              "      <th>22</th>\n",
              "      <td>Netherlands</td>\n",
              "      <td>43603.115</td>\n",
              "      <td>7.3</td>\n",
              "    </tr>\n",
              "    <tr>\n",
              "      <th>23</th>\n",
              "      <td>New Zealand</td>\n",
              "      <td>37044.891</td>\n",
              "      <td>7.3</td>\n",
              "    </tr>\n",
              "    <tr>\n",
              "      <th>24</th>\n",
              "      <td>Norway</td>\n",
              "      <td>74822.106</td>\n",
              "      <td>7.4</td>\n",
              "    </tr>\n",
              "    <tr>\n",
              "      <th>25</th>\n",
              "      <td>Poland</td>\n",
              "      <td>12495.334</td>\n",
              "      <td>5.8</td>\n",
              "    </tr>\n",
              "    <tr>\n",
              "      <th>26</th>\n",
              "      <td>Portugal</td>\n",
              "      <td>19121.592</td>\n",
              "      <td>5.1</td>\n",
              "    </tr>\n",
              "    <tr>\n",
              "      <th>27</th>\n",
              "      <td>Russia</td>\n",
              "      <td>9054.914</td>\n",
              "      <td>6.0</td>\n",
              "    </tr>\n",
              "    <tr>\n",
              "      <th>28</th>\n",
              "      <td>Slovak Republic</td>\n",
              "      <td>15991.736</td>\n",
              "      <td>6.1</td>\n",
              "    </tr>\n",
              "    <tr>\n",
              "      <th>29</th>\n",
              "      <td>Slovenia</td>\n",
              "      <td>20732.482</td>\n",
              "      <td>5.7</td>\n",
              "    </tr>\n",
              "    <tr>\n",
              "      <th>30</th>\n",
              "      <td>Spain</td>\n",
              "      <td>25864.721</td>\n",
              "      <td>6.5</td>\n",
              "    </tr>\n",
              "    <tr>\n",
              "      <th>31</th>\n",
              "      <td>Sweden</td>\n",
              "      <td>49866.266</td>\n",
              "      <td>7.2</td>\n",
              "    </tr>\n",
              "    <tr>\n",
              "      <th>32</th>\n",
              "      <td>Switzerland</td>\n",
              "      <td>80675.308</td>\n",
              "      <td>7.5</td>\n",
              "    </tr>\n",
              "    <tr>\n",
              "      <th>33</th>\n",
              "      <td>Turkey</td>\n",
              "      <td>9437.372</td>\n",
              "      <td>5.6</td>\n",
              "    </tr>\n",
              "    <tr>\n",
              "      <th>34</th>\n",
              "      <td>United Kingdom</td>\n",
              "      <td>43770.688</td>\n",
              "      <td>6.8</td>\n",
              "    </tr>\n",
              "    <tr>\n",
              "      <th>35</th>\n",
              "      <td>United States</td>\n",
              "      <td>55805.204</td>\n",
              "      <td>7.2</td>\n",
              "    </tr>\n",
              "  </tbody>\n",
              "</table>\n",
              "</div>"
            ],
            "text/plain": [
              "            Country  GDP per capita  Life satisfaction\n",
              "0         Australia       50961.865                7.3\n",
              "1           Austria       43724.031                6.9\n",
              "2           Belgium       40106.632                6.9\n",
              "3            Brazil        8669.998                7.0\n",
              "4            Canada       43331.961                7.3\n",
              "5             Chile       13340.905                6.7\n",
              "6    Czech Republic       17256.918                6.5\n",
              "7           Denmark       52114.165                7.5\n",
              "8           Estonia       17288.083                5.6\n",
              "9           Finland       41973.988                7.4\n",
              "10           France       37675.006                6.5\n",
              "11          Germany       40996.511                7.0\n",
              "12           Greece       18064.288                4.8\n",
              "13          Hungary       12239.894                4.9\n",
              "14          Iceland       50854.583                7.5\n",
              "15          Ireland       51350.744                7.0\n",
              "16           Israel       35343.336                7.4\n",
              "17            Italy       29866.581                6.0\n",
              "18            Japan       32485.545                5.9\n",
              "19            Korea       27195.197                5.8\n",
              "20       Luxembourg      101994.093                6.9\n",
              "21           Mexico        9009.280                6.7\n",
              "22      Netherlands       43603.115                7.3\n",
              "23      New Zealand       37044.891                7.3\n",
              "24           Norway       74822.106                7.4\n",
              "25           Poland       12495.334                5.8\n",
              "26         Portugal       19121.592                5.1\n",
              "27           Russia        9054.914                6.0\n",
              "28  Slovak Republic       15991.736                6.1\n",
              "29         Slovenia       20732.482                5.7\n",
              "30            Spain       25864.721                6.5\n",
              "31           Sweden       49866.266                7.2\n",
              "32      Switzerland       80675.308                7.5\n",
              "33           Turkey        9437.372                5.6\n",
              "34   United Kingdom       43770.688                6.8\n",
              "35    United States       55805.204                7.2"
            ]
          },
          "execution_count": 8,
          "metadata": {},
          "output_type": "execute_result"
        }
      ],
      "source": [
        "oecd_country_stats"
      ]
    },
    {
      "cell_type": "markdown",
      "metadata": {
        "id": "uBYDgzaoGE-J"
      },
      "source": [
        "국가명을 인덱스로 지정한다."
      ]
    },
    {
      "cell_type": "code",
      "execution_count": null,
      "metadata": {
        "colab": {
          "base_uri": "https://localhost:8080/",
          "height": 1000
        },
        "id": "HAowwBstvGBi",
        "outputId": "31737221-e4f6-44bd-d3da-4e1fcb503d69"
      },
      "outputs": [
        {
          "data": {
            "text/html": [
              "<div>\n",
              "<style scoped>\n",
              "    .dataframe tbody tr th:only-of-type {\n",
              "        vertical-align: middle;\n",
              "    }\n",
              "\n",
              "    .dataframe tbody tr th {\n",
              "        vertical-align: top;\n",
              "    }\n",
              "\n",
              "    .dataframe thead th {\n",
              "        text-align: right;\n",
              "    }\n",
              "</style>\n",
              "<table border=\"1\" class=\"dataframe\">\n",
              "  <thead>\n",
              "    <tr style=\"text-align: right;\">\n",
              "      <th></th>\n",
              "      <th>GDP per capita</th>\n",
              "      <th>Life satisfaction</th>\n",
              "    </tr>\n",
              "    <tr>\n",
              "      <th>Country</th>\n",
              "      <th></th>\n",
              "      <th></th>\n",
              "    </tr>\n",
              "  </thead>\n",
              "  <tbody>\n",
              "    <tr>\n",
              "      <th>Australia</th>\n",
              "      <td>50961.865</td>\n",
              "      <td>7.3</td>\n",
              "    </tr>\n",
              "    <tr>\n",
              "      <th>Austria</th>\n",
              "      <td>43724.031</td>\n",
              "      <td>6.9</td>\n",
              "    </tr>\n",
              "    <tr>\n",
              "      <th>Belgium</th>\n",
              "      <td>40106.632</td>\n",
              "      <td>6.9</td>\n",
              "    </tr>\n",
              "    <tr>\n",
              "      <th>Brazil</th>\n",
              "      <td>8669.998</td>\n",
              "      <td>7.0</td>\n",
              "    </tr>\n",
              "    <tr>\n",
              "      <th>Canada</th>\n",
              "      <td>43331.961</td>\n",
              "      <td>7.3</td>\n",
              "    </tr>\n",
              "  </tbody>\n",
              "</table>\n",
              "</div>"
            ],
            "text/plain": [
              "           GDP per capita  Life satisfaction\n",
              "Country                                     \n",
              "Australia       50961.865                7.3\n",
              "Austria         43724.031                6.9\n",
              "Belgium         40106.632                6.9\n",
              "Brazil           8669.998                7.0\n",
              "Canada          43331.961                7.3"
            ]
          },
          "execution_count": 9,
          "metadata": {},
          "output_type": "execute_result"
        }
      ],
      "source": [
        "oecd_country_stats.set_index(\"Country\", inplace=True)\n",
        "oecd_country_stats.head()"
      ]
    },
    {
      "cell_type": "markdown",
      "metadata": {
        "id": "0-0FXycbC1KT"
      },
      "source": [
        "1인당 GDP와 삶의 만족도 사이의 선형 관계를 눈으로 확인하기 위해 국가를\n",
        "1인당 GDP 기준 오름차순으로 정렬시킨다."
      ]
    },
    {
      "cell_type": "code",
      "execution_count": null,
      "metadata": {
        "id": "U7XPA6oZC1KT"
      },
      "outputs": [],
      "source": [
        "oecd_country_stats.sort_values(by=\"GDP per capita\", inplace=True)"
      ]
    },
    {
      "cell_type": "markdown",
      "metadata": {
        "id": "--F4c4GXGE-K"
      },
      "source": [
        "- GDP가 가장 낮은 5 개국"
      ]
    },
    {
      "cell_type": "code",
      "execution_count": null,
      "metadata": {
        "colab": {
          "base_uri": "https://localhost:8080/",
          "height": 1000
        },
        "id": "hum6cZ_eGE-K",
        "outputId": "890d2643-fb5d-4da7-ad02-747487ecb07d"
      },
      "outputs": [
        {
          "data": {
            "text/html": [
              "<div>\n",
              "<style scoped>\n",
              "    .dataframe tbody tr th:only-of-type {\n",
              "        vertical-align: middle;\n",
              "    }\n",
              "\n",
              "    .dataframe tbody tr th {\n",
              "        vertical-align: top;\n",
              "    }\n",
              "\n",
              "    .dataframe thead th {\n",
              "        text-align: right;\n",
              "    }\n",
              "</style>\n",
              "<table border=\"1\" class=\"dataframe\">\n",
              "  <thead>\n",
              "    <tr style=\"text-align: right;\">\n",
              "      <th></th>\n",
              "      <th>GDP per capita</th>\n",
              "      <th>Life satisfaction</th>\n",
              "    </tr>\n",
              "    <tr>\n",
              "      <th>Country</th>\n",
              "      <th></th>\n",
              "      <th></th>\n",
              "    </tr>\n",
              "  </thead>\n",
              "  <tbody>\n",
              "    <tr>\n",
              "      <th>Brazil</th>\n",
              "      <td>8669.998</td>\n",
              "      <td>7.0</td>\n",
              "    </tr>\n",
              "    <tr>\n",
              "      <th>Mexico</th>\n",
              "      <td>9009.280</td>\n",
              "      <td>6.7</td>\n",
              "    </tr>\n",
              "    <tr>\n",
              "      <th>Russia</th>\n",
              "      <td>9054.914</td>\n",
              "      <td>6.0</td>\n",
              "    </tr>\n",
              "    <tr>\n",
              "      <th>Turkey</th>\n",
              "      <td>9437.372</td>\n",
              "      <td>5.6</td>\n",
              "    </tr>\n",
              "    <tr>\n",
              "      <th>Hungary</th>\n",
              "      <td>12239.894</td>\n",
              "      <td>4.9</td>\n",
              "    </tr>\n",
              "  </tbody>\n",
              "</table>\n",
              "</div>"
            ],
            "text/plain": [
              "         GDP per capita  Life satisfaction\n",
              "Country                                   \n",
              "Brazil         8669.998                7.0\n",
              "Mexico         9009.280                6.7\n",
              "Russia         9054.914                6.0\n",
              "Turkey         9437.372                5.6\n",
              "Hungary       12239.894                4.9"
            ]
          },
          "execution_count": 11,
          "metadata": {},
          "output_type": "execute_result"
        }
      ],
      "source": [
        "oecd_country_stats.head()"
      ]
    },
    {
      "cell_type": "markdown",
      "metadata": {
        "id": "AIats5wWGE-K"
      },
      "source": [
        "- GDP가 가장 높은 5 개국"
      ]
    },
    {
      "cell_type": "code",
      "execution_count": null,
      "metadata": {
        "colab": {
          "base_uri": "https://localhost:8080/",
          "height": 1000
        },
        "id": "FNjDJka2GE-M",
        "outputId": "890d2643-fb5d-4da7-ad02-747487ecb07d"
      },
      "outputs": [
        {
          "data": {
            "text/html": [
              "<div>\n",
              "<style scoped>\n",
              "    .dataframe tbody tr th:only-of-type {\n",
              "        vertical-align: middle;\n",
              "    }\n",
              "\n",
              "    .dataframe tbody tr th {\n",
              "        vertical-align: top;\n",
              "    }\n",
              "\n",
              "    .dataframe thead th {\n",
              "        text-align: right;\n",
              "    }\n",
              "</style>\n",
              "<table border=\"1\" class=\"dataframe\">\n",
              "  <thead>\n",
              "    <tr style=\"text-align: right;\">\n",
              "      <th></th>\n",
              "      <th>GDP per capita</th>\n",
              "      <th>Life satisfaction</th>\n",
              "    </tr>\n",
              "    <tr>\n",
              "      <th>Country</th>\n",
              "      <th></th>\n",
              "      <th></th>\n",
              "    </tr>\n",
              "  </thead>\n",
              "  <tbody>\n",
              "    <tr>\n",
              "      <th>Denmark</th>\n",
              "      <td>52114.165</td>\n",
              "      <td>7.5</td>\n",
              "    </tr>\n",
              "    <tr>\n",
              "      <th>United States</th>\n",
              "      <td>55805.204</td>\n",
              "      <td>7.2</td>\n",
              "    </tr>\n",
              "    <tr>\n",
              "      <th>Norway</th>\n",
              "      <td>74822.106</td>\n",
              "      <td>7.4</td>\n",
              "    </tr>\n",
              "    <tr>\n",
              "      <th>Switzerland</th>\n",
              "      <td>80675.308</td>\n",
              "      <td>7.5</td>\n",
              "    </tr>\n",
              "    <tr>\n",
              "      <th>Luxembourg</th>\n",
              "      <td>101994.093</td>\n",
              "      <td>6.9</td>\n",
              "    </tr>\n",
              "  </tbody>\n",
              "</table>\n",
              "</div>"
            ],
            "text/plain": [
              "               GDP per capita  Life satisfaction\n",
              "Country                                         \n",
              "Denmark             52114.165                7.5\n",
              "United States       55805.204                7.2\n",
              "Norway              74822.106                7.4\n",
              "Switzerland         80675.308                7.5\n",
              "Luxembourg         101994.093                6.9"
            ]
          },
          "execution_count": 12,
          "metadata": {},
          "output_type": "execute_result"
        }
      ],
      "source": [
        "oecd_country_stats.tail()"
      ]
    },
    {
      "cell_type": "markdown",
      "metadata": {
        "id": "hwaalbQ1C1KT"
      },
      "source": [
        "#### 추가 설정"
      ]
    },
    {
      "cell_type": "markdown",
      "metadata": {
        "id": "bBKF8FbcK75g"
      },
      "source": [
        "선형 회귀 모델을 훈련시킬 때 발생할 수 있는 과대적합 문제를 설명하기 위해\n",
        "고의로 7개 국가의 데이터를 데이터 셋에서 제외시키고 훈련 시킬 때와\n",
        "그렇지 않을 때를 비교한다.\n",
        "\n",
        "제외 대상 국가는 브라질, 멕시코, 칠레, 체코, 노르웨이, 스위스, 룩셈부르크 이다.\n",
        "데이터프레임에서 아래 인덱스를 이용하여 7개 국가를 제외시키고 훈련을 시킬 것이다."
      ]
    },
    {
      "cell_type": "code",
      "execution_count": null,
      "metadata": {
        "id": "ZN4J5Ew8fLIj"
      },
      "outputs": [],
      "source": [
        "omitted_indices = [0, 1, 6, 8, 33, 34, 35]\n",
        "\n",
        "kept_indices = list( set(range(36)) - set(omitted_indices) )"
      ]
    },
    {
      "cell_type": "markdown",
      "metadata": {
        "id": "y4CqTfGSC1KU"
      },
      "source": [
        "제외된 7개 국가의 1인당 GDP와 삶의 만족도 데이터는 다음과 같다."
      ]
    },
    {
      "cell_type": "code",
      "execution_count": null,
      "metadata": {
        "colab": {
          "base_uri": "https://localhost:8080/",
          "height": 300
        },
        "id": "Wz2MHKM1C1KU",
        "outputId": "37f9918c-c9e5-4817-afe8-925dc8948ce4"
      },
      "outputs": [
        {
          "data": {
            "text/html": [
              "<div>\n",
              "<style scoped>\n",
              "    .dataframe tbody tr th:only-of-type {\n",
              "        vertical-align: middle;\n",
              "    }\n",
              "\n",
              "    .dataframe tbody tr th {\n",
              "        vertical-align: top;\n",
              "    }\n",
              "\n",
              "    .dataframe thead th {\n",
              "        text-align: right;\n",
              "    }\n",
              "</style>\n",
              "<table border=\"1\" class=\"dataframe\">\n",
              "  <thead>\n",
              "    <tr style=\"text-align: right;\">\n",
              "      <th></th>\n",
              "      <th>GDP per capita</th>\n",
              "      <th>Life satisfaction</th>\n",
              "    </tr>\n",
              "    <tr>\n",
              "      <th>Country</th>\n",
              "      <th></th>\n",
              "      <th></th>\n",
              "    </tr>\n",
              "  </thead>\n",
              "  <tbody>\n",
              "    <tr>\n",
              "      <th>Brazil</th>\n",
              "      <td>8669.998</td>\n",
              "      <td>7.0</td>\n",
              "    </tr>\n",
              "    <tr>\n",
              "      <th>Mexico</th>\n",
              "      <td>9009.280</td>\n",
              "      <td>6.7</td>\n",
              "    </tr>\n",
              "    <tr>\n",
              "      <th>Chile</th>\n",
              "      <td>13340.905</td>\n",
              "      <td>6.7</td>\n",
              "    </tr>\n",
              "    <tr>\n",
              "      <th>Czech Republic</th>\n",
              "      <td>17256.918</td>\n",
              "      <td>6.5</td>\n",
              "    </tr>\n",
              "    <tr>\n",
              "      <th>Norway</th>\n",
              "      <td>74822.106</td>\n",
              "      <td>7.4</td>\n",
              "    </tr>\n",
              "    <tr>\n",
              "      <th>Switzerland</th>\n",
              "      <td>80675.308</td>\n",
              "      <td>7.5</td>\n",
              "    </tr>\n",
              "    <tr>\n",
              "      <th>Luxembourg</th>\n",
              "      <td>101994.093</td>\n",
              "      <td>6.9</td>\n",
              "    </tr>\n",
              "  </tbody>\n",
              "</table>\n",
              "</div>"
            ],
            "text/plain": [
              "                GDP per capita  Life satisfaction\n",
              "Country                                          \n",
              "Brazil                8669.998                7.0\n",
              "Mexico                9009.280                6.7\n",
              "Chile                13340.905                6.7\n",
              "Czech Republic       17256.918                6.5\n",
              "Norway               74822.106                7.4\n",
              "Switzerland          80675.308                7.5\n",
              "Luxembourg          101994.093                6.9"
            ]
          },
          "execution_count": 14,
          "metadata": {},
          "output_type": "execute_result"
        }
      ],
      "source": [
        "missing_data = oecd_country_stats.iloc[omitted_indices]\n",
        "\n",
        "missing_data"
      ]
    },
    {
      "cell_type": "markdown",
      "metadata": {
        "id": "K4K57J0nC1KU"
      },
      "source": [
        "7개 국가를 제외한 국가들의 1인당 GDP와 삶의 만족도 데이터를 지정한다."
      ]
    },
    {
      "cell_type": "code",
      "execution_count": null,
      "metadata": {
        "id": "qax3AOkHC1KU"
      },
      "outputs": [],
      "source": [
        "sample_data = oecd_country_stats.iloc[kept_indices]"
      ]
    },
    {
      "cell_type": "markdown",
      "metadata": {
        "id": "B7ZOe2t7C1KU"
      },
      "source": [
        "### 5단계: 모델 선택과 훈련"
      ]
    },
    {
      "cell_type": "markdown",
      "metadata": {
        "id": "jtxTmNgjM0jH"
      },
      "source": [
        "#### 선형 관계 확인"
      ]
    },
    {
      "cell_type": "markdown",
      "metadata": {
        "id": "opoNhrYMLBRp"
      },
      "source": [
        "아래 코드는 앞서 언급된 7개 국가의 데이터를 제외한 국가들의 1인당 GDP와\n",
        "삶의 만족도 사이의 관계를 산점도로 나타낸다.\n",
        "선형관계를 잘 보여주는 다음 다섯 개 국가는 빨간색 점으로 표시한다.\n",
        "\n",
        "* 헝가리(Hungary)\n",
        "* 대한민국(Korea)\n",
        "* 프랑스(France)\n",
        "* 호주(Australia)\n",
        "* 미국(United States)"
      ]
    },
    {
      "cell_type": "code",
      "execution_count": null,
      "metadata": {
        "colab": {
          "base_uri": "https://localhost:8080/",
          "height": 321
        },
        "id": "786ll6jafLIj",
        "outputId": "b4a7774b-5629-4952-866c-679efde45912"
      },
      "outputs": [
        {
          "data": {
            "image/png": "[encoded data removed]",
            "text/plain": [
              "<Figure size 500x300 with 1 Axes>"
            ]
          },
          "metadata": {},
          "output_type": "display_data"
        }
      ],
      "source": [
        "# 7개 국가를 제외한 국가들의 데이터 산점도\n",
        "sample_data.plot(kind='scatter', x=\"GDP per capita\", y='Life satisfaction', figsize=(5,3))\n",
        "plt.axis([0, 60000, 0, 10])\n",
        "\n",
        "# 언급된 5개 국가명과 좌표\n",
        "position_text = {\n",
        "    \"Hungary\": (7000, 1),\n",
        "    \"Korea\": (24000, 1.7),\n",
        "    \"France\": (33000, 2.2),\n",
        "    \"Australia\": (43000, 2.7),\n",
        "    \"United States\": (52000, 3.8),\n",
        "}\n",
        "\n",
        "# 5개 국가는 좌표를 이용하여 빨강색 점으로 표기\n",
        "for country, pos_text in position_text.items():\n",
        "    pos_data_x, pos_data_y = sample_data.loc[country]            # 5개 국가의 지표\n",
        "\n",
        "    # 5개 국가명 표기\n",
        "    country = \"U.S.\" if country == \"United States\" else country  # 미국은 U.S. 로 표기\n",
        "\n",
        "    # 화살표 그리기\n",
        "    plt.annotate(country, xy=(pos_data_x, pos_data_y),\n",
        "                 xytext=pos_text,\n",
        "                 arrowprops=dict(facecolor='black', width=0.5, shrink=0.1, headwidth=5) )\n",
        "\n",
        "    # 5개 국가 산점도 그리기: 빨강색 점\n",
        "    plt.plot(pos_data_x, pos_data_y, \"ro\")\n",
        "\n",
        "# x 축 제목 새롭게 지정\n",
        "plt.xlabel(\"GDP per capita (USD)\")\n",
        "\n",
        "plt.show()"
      ]
    },
    {
      "cell_type": "markdown",
      "metadata": {
        "id": "0Y7UCwmlL-6W"
      },
      "source": [
        "언급된 5개 국가의 1인당 GDP와 삶의 만족도를 데이터에서 직접 확인하면 다음과 같다."
      ]
    },
    {
      "cell_type": "code",
      "execution_count": null,
      "metadata": {
        "colab": {
          "base_uri": "https://localhost:8080/",
          "height": 237
        },
        "id": "jxhc5gBE9_WT",
        "outputId": "3e369d9f-af4e-41b3-9214-7dc93c75f391"
      },
      "outputs": [
        {
          "data": {
            "text/html": [
              "<div>\n",
              "<style scoped>\n",
              "    .dataframe tbody tr th:only-of-type {\n",
              "        vertical-align: middle;\n",
              "    }\n",
              "\n",
              "    .dataframe tbody tr th {\n",
              "        vertical-align: top;\n",
              "    }\n",
              "\n",
              "    .dataframe thead th {\n",
              "        text-align: right;\n",
              "    }\n",
              "</style>\n",
              "<table border=\"1\" class=\"dataframe\">\n",
              "  <thead>\n",
              "    <tr style=\"text-align: right;\">\n",
              "      <th></th>\n",
              "      <th>GDP per capita</th>\n",
              "      <th>Life satisfaction</th>\n",
              "    </tr>\n",
              "    <tr>\n",
              "      <th>Country</th>\n",
              "      <th></th>\n",
              "      <th></th>\n",
              "    </tr>\n",
              "  </thead>\n",
              "  <tbody>\n",
              "    <tr>\n",
              "      <th>Hungary</th>\n",
              "      <td>12239.894</td>\n",
              "      <td>4.9</td>\n",
              "    </tr>\n",
              "    <tr>\n",
              "      <th>Korea</th>\n",
              "      <td>27195.197</td>\n",
              "      <td>5.8</td>\n",
              "    </tr>\n",
              "    <tr>\n",
              "      <th>France</th>\n",
              "      <td>37675.006</td>\n",
              "      <td>6.5</td>\n",
              "    </tr>\n",
              "    <tr>\n",
              "      <th>Australia</th>\n",
              "      <td>50961.865</td>\n",
              "      <td>7.3</td>\n",
              "    </tr>\n",
              "    <tr>\n",
              "      <th>United States</th>\n",
              "      <td>55805.204</td>\n",
              "      <td>7.2</td>\n",
              "    </tr>\n",
              "  </tbody>\n",
              "</table>\n",
              "</div>"
            ],
            "text/plain": [
              "               GDP per capita  Life satisfaction\n",
              "Country                                         \n",
              "Hungary             12239.894                4.9\n",
              "Korea               27195.197                5.8\n",
              "France              37675.006                6.5\n",
              "Australia           50961.865                7.3\n",
              "United States       55805.204                7.2"
            ]
          },
          "execution_count": 17,
          "metadata": {},
          "output_type": "execute_result"
        }
      ],
      "source": [
        "sample_data.loc[list(position_text.keys())]"
      ]
    },
    {
      "cell_type": "markdown",
      "metadata": {
        "id": "NVga35bvM9Te"
      },
      "source": [
        "위 산점도에 따르면 1인당 GDP와 삶의 만족도가 어느 정도 선형 관계에 있는 것처럼 보인다."
      ]
    },
    {
      "cell_type": "markdown",
      "metadata": {
        "id": "LS4IcHjtC1KV"
      },
      "source": [
        "#### 선형 회귀 모델"
      ]
    },
    {
      "cell_type": "markdown",
      "metadata": {
        "id": "uxkg3Jfl_iQR"
      },
      "source": [
        "직선처럼 y 축의 값이 x 축의 값에 선형적으로 의존하는 관계를 __선형관계__라 하며,\n",
        "그런 선형관계를 함수로 구현하는 모델을 __선형 회귀 모델__(linear regression model)이라 한다.\n",
        "선형 회귀 모델은 직선을 나타내는 1차 함수의 그래프로 표현되며,\n",
        "직선은 절편(y축과 만나는 점)과 기울기 두 개의 값에 의해 정해진다.\n",
        "\n",
        "예를 들어, 1인당 GDP와 삶의 만족도 사이에 다음 선형 관계가 성립하도록 하는\n",
        "절편 $\\theta_0$ 와 기울기 $\\theta_1$ 을 구해야 한다.\n",
        "\n",
        "$$\n",
        "\\text{삶의만족도} = \\theta_0 + (\\text{1인당GDP}) \\cdot \\theta_1\n",
        "$$\n",
        "\n",
        "$\\theta_0$ 와 $\\theta_1$ 처럼 모델 구현에 사용되는 값들을 모델의\n",
        "__파라미터__<font size=\"2\">parameter</font>라 하며,\n",
        "모델의 파라미터를 찾아내는 것이 머신러닝 모델훈련의 핵심이다."
      ]
    },
    {
      "cell_type": "markdown",
      "metadata": {
        "id": "3v8aDUqzC1KV"
      },
      "source": [
        "#### 사이킷런 라이브러리 활용"
      ]
    },
    {
      "cell_type": "markdown",
      "metadata": {
        "id": "ED7LDUNPC1KV"
      },
      "source": [
        "**사이킷런**<font size=\"2\">scikit-learn</font> 라이브러리는 머신러닝에서 사용되는\n",
        "다양한 모델을 제공한다.\n",
        "선형 회귀의 경우 `LinearRegression` 클래스의 객체를 생성하여 훈련시키면\n",
        "최적의 절편과 기울기를 계산해준다.\n",
        "\n",
        "사이킷런의 모델을 지정하고 훈련시키는 과정은 다음과 같다."
      ]
    },
    {
      "cell_type": "markdown",
      "metadata": {
        "id": "lemUrEeCC1KV"
      },
      "source": [
        "**과정 1: 모델 지정**"
      ]
    },
    {
      "cell_type": "markdown",
      "metadata": {
        "id": "JOYxSxCsC1KV"
      },
      "source": [
        "사이킷런(sklearn) 패키지의 `linear_model` 모듈에 포함된 `LinearRegression` 클래스의 객체를 선언한다.\n",
        "선언된 모델은 아직 어떤 훈련도 하지 않은 상태이다."
      ]
    },
    {
      "cell_type": "code",
      "execution_count": null,
      "metadata": {
        "id": "6qm6yOoSfLIk"
      },
      "outputs": [],
      "source": [
        "from sklearn.linear_model import LinearRegression\n",
        "\n",
        "lin1 = LinearRegression()"
      ]
    },
    {
      "cell_type": "markdown",
      "metadata": {
        "id": "ules_1NqC1KV"
      },
      "source": [
        "**과정 2: 훈련 셋 지정**"
      ]
    },
    {
      "cell_type": "markdown",
      "metadata": {
        "id": "W_bSUmD7C1KV"
      },
      "source": [
        "입력 데이터 셋은 x 축에, 타깃 데이터 셋은 y 축에 해당한다.\n",
        "\n",
        "* 입력 데이터: 1인당 GDP\n",
        "* 타깃 데이터: 삶의 만족도\n",
        "\n",
        "입력 데이터와 타깃 데이터를 2차원 어레이로 지정한다.\n",
        "사이킷런의 선형 회귀 모델이 2차원 어레이 형식의 입력 데이터 셋과 타깃 데이터 셋을 요구한다.\n",
        "넘파이의 `c_` 함수를 활용해서 차원을 늘려준다."
      ]
    },
    {
      "cell_type": "code",
      "execution_count": null,
      "metadata": {
        "id": "xTDMw7JxC1KV"
      },
      "outputs": [],
      "source": [
        "Xsample = np.c_[sample_data[\"GDP per capita\"]]\n",
        "ysample = np.c_[sample_data[\"Life satisfaction\"]]"
      ]
    },
    {
      "cell_type": "markdown",
      "metadata": {
        "id": "jNiN1SrnC1KV"
      },
      "source": [
        "변환 전의 처음 5개 데이터는 다음과 같다."
      ]
    },
    {
      "cell_type": "code",
      "execution_count": null,
      "metadata": {
        "colab": {
          "base_uri": "https://localhost:8080/"
        },
        "id": "cqt1nCk_C1KV",
        "outputId": "026ec16a-bb3e-43a2-8363-74e4e79d8330"
      },
      "outputs": [
        {
          "data": {
            "text/plain": [
              "array([ 9054.914,  9437.372, 12239.894, 12495.334, 15991.736])"
            ]
          },
          "execution_count": 20,
          "metadata": {},
          "output_type": "execute_result"
        }
      ],
      "source": [
        "np.array(sample_data[\"GDP per capita\"][:5])"
      ]
    },
    {
      "cell_type": "markdown",
      "metadata": {
        "id": "0-3U4tPyC1KW"
      },
      "source": [
        "2차원 어레이로 변환 된 입력 데이터의 처음 5개는 다음과 같다."
      ]
    },
    {
      "cell_type": "code",
      "execution_count": null,
      "metadata": {
        "colab": {
          "base_uri": "https://localhost:8080/"
        },
        "id": "mAlM7NrSC1KW",
        "outputId": "7ef69a22-c4f8-46de-e5cc-ccf4bb8de70e"
      },
      "outputs": [
        {
          "data": {
            "text/plain": [
              "array([[ 9054.914],\n",
              "       [ 9437.372],\n",
              "       [12239.894],\n",
              "       [12495.334],\n",
              "       [15991.736]])"
            ]
          },
          "execution_count": 21,
          "metadata": {},
          "output_type": "execute_result"
        }
      ],
      "source": [
        "Xsample[:5]"
      ]
    },
    {
      "cell_type": "markdown",
      "metadata": {
        "id": "tjA22Fe9C1KW"
      },
      "source": [
        "타깃 데이터 또한 마찬가지이다."
      ]
    },
    {
      "cell_type": "code",
      "execution_count": null,
      "metadata": {
        "colab": {
          "base_uri": "https://localhost:8080/"
        },
        "id": "wf3WxaLuC1KW",
        "outputId": "07220adf-d56f-4404-c420-85baf82e7e4a"
      },
      "outputs": [
        {
          "data": {
            "text/plain": [
              "array([[6. ],\n",
              "       [5.6],\n",
              "       [4.9],\n",
              "       [5.8],\n",
              "       [6.1]])"
            ]
          },
          "execution_count": 22,
          "metadata": {},
          "output_type": "execute_result"
        }
      ],
      "source": [
        "ysample[:5]"
      ]
    },
    {
      "cell_type": "markdown",
      "metadata": {
        "id": "MAmH2wdHC1KW"
      },
      "source": [
        "**과정 3: 모델 훈련**"
      ]
    },
    {
      "cell_type": "markdown",
      "metadata": {
        "id": "nE_pE-5OC1KW"
      },
      "source": [
        "\n",
        "선형 모델의 `fit()` 메서드를 지정된 입력 데이터 셋과 타깃 터이터 셋을\n",
        "인자로 사용해서 호출하면\n",
        "최적의 $\\theta_0$와 $\\theta_1$ 파라미터를 찾는 훈련이 실행되며\n",
        "훈련이 종료되면 최적의 파라미터가 업데이트된 객체 자신이 반환된다."
      ]
    },
    {
      "cell_type": "code",
      "execution_count": null,
      "metadata": {
        "colab": {
          "base_uri": "https://localhost:8080/",
          "height": 74
        },
        "id": "C9gwkz25C1KW",
        "outputId": "3cc4ffdd-05dd-4463-870c-1cf709e70932"
      },
      "outputs": [
        {
          "data": {
            "text/html": [
              "<style>#sk-container-id-1 {\n",
              "  /* Definition of color scheme common for light and dark mode */\n",
              "  --sklearn-color-text: black;\n",
              "  --sklearn-color-line: gray;\n",
              "  /* Definition of color scheme for unfitted estimators */\n",
              "  --sklearn-color-unfitted-level-0: #fff5e6;\n",
              "  --sklearn-color-unfitted-level-1: #f6e4d2;\n",
              "  --sklearn-color-unfitted-level-2: #ffe0b3;\n",
              "  --sklearn-color-unfitted-level-3: chocolate;\n",
              "  /* Definition of color scheme for fitted estimators */\n",
              "  --sklearn-color-fitted-level-0: #f0f8ff;\n",
              "  --sklearn-color-fitted-level-1: #d4ebff;\n",
              "  --sklearn-color-fitted-level-2: #b3dbfd;\n",
              "  --sklearn-color-fitted-level-3: cornflowerblue;\n",
              "\n",
              "  /* Specific color for light theme */\n",
              "  --sklearn-color-text-on-default-background: var(--sg-text-color, var(--theme-code-foreground, var(--jp-content-font-color1, black)));\n",
              "  --sklearn-color-background: var(--sg-background-color, var(--theme-background, var(--jp-layout-color0, white)));\n",
              "  --sklearn-color-border-box: var(--sg-text-color, var(--theme-code-foreground, var(--jp-content-font-color1, black)));\n",
              "  --sklearn-color-icon: #696969;\n",
              "\n",
              "  @media (prefers-color-scheme: dark) {\n",
              "    /* Redefinition of color scheme for dark theme */\n",
              "    --sklearn-color-text-on-default-background: var(--sg-text-color, var(--theme-code-foreground, var(--jp-content-font-color1, white)));\n",
              "    --sklearn-color-background: var(--sg-background-color, var(--theme-background, var(--jp-layout-color0, #111)));\n",
              "    --sklearn-color-border-box: var(--sg-text-color, var(--theme-code-foreground, var(--jp-content-font-color1, white)));\n",
              "    --sklearn-color-icon: #878787;\n",
              "  }\n",
              "}\n",
              "\n",
              "#sk-container-id-1 {\n",
              "  color: var(--sklearn-color-text);\n",
              "}\n",
              "\n",
              "#sk-container-id-1 pre {\n",
              "  padding: 0;\n",
              "}\n",
              "\n",
              "#sk-container-id-1 input.sk-hidden--visually {\n",
              "  border: 0;\n",
              "  clip: rect(1px 1px 1px 1px);\n",
              "  clip: rect(1px, 1px, 1px, 1px);\n",
              "  height: 1px;\n",
              "  margin: -1px;\n",
              "  overflow: hidden;\n",
              "  padding: 0;\n",
              "  position: absolute;\n",
              "  width: 1px;\n",
              "}\n",
              "\n",
              "#sk-container-id-1 div.sk-dashed-wrapped {\n",
              "  border: 1px dashed var(--sklearn-color-line);\n",
              "  margin: 0 0.4em 0.5em 0.4em;\n",
              "  box-sizing: border-box;\n",
              "  padding-bottom: 0.4em;\n",
              "  background-color: var(--sklearn-color-background);\n",
              "}\n",
              "\n",
              "#sk-container-id-1 div.sk-container {\n",
              "  /* jupyter's `normalize.less` sets `[hidden] { display: none; }`\n",
              "     but bootstrap.min.css set `[hidden] { display: none !important; }`\n",
              "     so we also need the `!important` here to be able to override the\n",
              "     default hidden behavior on the sphinx rendered scikit-learn.org.\n",
              "     See: https://github.com/scikit-learn/scikit-learn/issues/21755 */\n",
              "  display: inline-block !important;\n",
              "  position: relative;\n",
              "}\n",
              "\n",
              "#sk-container-id-1 div.sk-text-repr-fallback {\n",
              "  display: none;\n",
              "}\n",
              "\n",
              "div.sk-parallel-item,\n",
              "div.sk-serial,\n",
              "div.sk-item {\n",
              "  /* draw centered vertical line to link estimators */\n",
              "  background-image: linear-gradient(var(--sklearn-color-text-on-default-background), var(--sklearn-color-text-on-default-background));\n",
              "  background-size: 2px 100%;\n",
              "  background-repeat: no-repeat;\n",
              "  background-position: center center;\n",
              "}\n",
              "\n",
              "/* Parallel-specific style estimator block */\n",
              "\n",
              "#sk-container-id-1 div.sk-parallel-item::after {\n",
              "  content: \"\";\n",
              "  width: 100%;\n",
              "  border-bottom: 2px solid var(--sklearn-color-text-on-default-background);\n",
              "  flex-grow: 1;\n",
              "}\n",
              "\n",
              "#sk-container-id-1 div.sk-parallel {\n",
              "  display: flex;\n",
              "  align-items: stretch;\n",
              "  justify-content: center;\n",
              "  background-color: var(--sklearn-color-background);\n",
              "  position: relative;\n",
              "}\n",
              "\n",
              "#sk-container-id-1 div.sk-parallel-item {\n",
              "  display: flex;\n",
              "  flex-direction: column;\n",
              "}\n",
              "\n",
              "#sk-container-id-1 div.sk-parallel-item:first-child::after {\n",
              "  align-self: flex-end;\n",
              "  width: 50%;\n",
              "}\n",
              "\n",
              "#sk-container-id-1 div.sk-parallel-item:last-child::after {\n",
              "  align-self: flex-start;\n",
              "  width: 50%;\n",
              "}\n",
              "\n",
              "#sk-container-id-1 div.sk-parallel-item:only-child::after {\n",
              "  width: 0;\n",
              "}\n",
              "\n",
              "/* Serial-specific style estimator block */\n",
              "\n",
              "#sk-container-id-1 div.sk-serial {\n",
              "  display: flex;\n",
              "  flex-direction: column;\n",
              "  align-items: center;\n",
              "  background-color: var(--sklearn-color-background);\n",
              "  padding-right: 1em;\n",
              "  padding-left: 1em;\n",
              "}\n",
              "\n",
              "\n",
              "/* Toggleable style: style used for estimator/Pipeline/ColumnTransformer box that is\n",
              "clickable and can be expanded/collapsed.\n",
              "- Pipeline and ColumnTransformer use this feature and define the default style\n",
              "- Estimators will overwrite some part of the style using the `sk-estimator` class\n",
              "*/\n",
              "\n",
              "/* Pipeline and ColumnTransformer style (default) */\n",
              "\n",
              "#sk-container-id-1 div.sk-toggleable {\n",
              "  /* Default theme specific background. It is overwritten whether we have a\n",
              "  specific estimator or a Pipeline/ColumnTransformer */\n",
              "  background-color: var(--sklearn-color-background);\n",
              "}\n",
              "\n",
              "/* Toggleable label */\n",
              "#sk-container-id-1 label.sk-toggleable__label {\n",
              "  cursor: pointer;\n",
              "  display: block;\n",
              "  width: 100%;\n",
              "  margin-bottom: 0;\n",
              "  padding: 0.5em;\n",
              "  box-sizing: border-box;\n",
              "  text-align: center;\n",
              "}\n",
              "\n",
              "#sk-container-id-1 label.sk-toggleable__label-arrow:before {\n",
              "  /* Arrow on the left of the label */\n",
              "  content: \"▸\";\n",
              "  float: left;\n",
              "  margin-right: 0.25em;\n",
              "  color: var(--sklearn-color-icon);\n",
              "}\n",
              "\n",
              "#sk-container-id-1 label.sk-toggleable__label-arrow:hover:before {\n",
              "  color: var(--sklearn-color-text);\n",
              "}\n",
              "\n",
              "/* Toggleable content - dropdown */\n",
              "\n",
              "#sk-container-id-1 div.sk-toggleable__content {\n",
              "  max-height: 0;\n",
              "  max-width: 0;\n",
              "  overflow: hidden;\n",
              "  text-align: left;\n",
              "  /* unfitted */\n",
              "  background-color: var(--sklearn-color-unfitted-level-0);\n",
              "}\n",
              "\n",
              "#sk-container-id-1 div.sk-toggleable__content.fitted {\n",
              "  /* fitted */\n",
              "  background-color: var(--sklearn-color-fitted-level-0);\n",
              "}\n",
              "\n",
              "#sk-container-id-1 div.sk-toggleable__content pre {\n",
              "  margin: 0.2em;\n",
              "  border-radius: 0.25em;\n",
              "  color: var(--sklearn-color-text);\n",
              "  /* unfitted */\n",
              "  background-color: var(--sklearn-color-unfitted-level-0);\n",
              "}\n",
              "\n",
              "#sk-container-id-1 div.sk-toggleable__content.fitted pre {\n",
              "  /* unfitted */\n",
              "  background-color: var(--sklearn-color-fitted-level-0);\n",
              "}\n",
              "\n",
              "#sk-container-id-1 input.sk-toggleable__control:checked~div.sk-toggleable__content {\n",
              "  /* Expand drop-down */\n",
              "  max-height: 200px;\n",
              "  max-width: 100%;\n",
              "  overflow: auto;\n",
              "}\n",
              "\n",
              "#sk-container-id-1 input.sk-toggleable__control:checked~label.sk-toggleable__label-arrow:before {\n",
              "  content: \"▾\";\n",
              "}\n",
              "\n",
              "/* Pipeline/ColumnTransformer-specific style */\n",
              "\n",
              "#sk-container-id-1 div.sk-label input.sk-toggleable__control:checked~label.sk-toggleable__label {\n",
              "  color: var(--sklearn-color-text);\n",
              "  background-color: var(--sklearn-color-unfitted-level-2);\n",
              "}\n",
              "\n",
              "#sk-container-id-1 div.sk-label.fitted input.sk-toggleable__control:checked~label.sk-toggleable__label {\n",
              "  background-color: var(--sklearn-color-fitted-level-2);\n",
              "}\n",
              "\n",
              "/* Estimator-specific style */\n",
              "\n",
              "/* Colorize estimator box */\n",
              "#sk-container-id-1 div.sk-estimator input.sk-toggleable__control:checked~label.sk-toggleable__label {\n",
              "  /* unfitted */\n",
              "  background-color: var(--sklearn-color-unfitted-level-2);\n",
              "}\n",
              "\n",
              "#sk-container-id-1 div.sk-estimator.fitted input.sk-toggleable__control:checked~label.sk-toggleable__label {\n",
              "  /* fitted */\n",
              "  background-color: var(--sklearn-color-fitted-level-2);\n",
              "}\n",
              "\n",
              "#sk-container-id-1 div.sk-label label.sk-toggleable__label,\n",
              "#sk-container-id-1 div.sk-label label {\n",
              "  /* The background is the default theme color */\n",
              "  color: var(--sklearn-color-text-on-default-background);\n",
              "}\n",
              "\n",
              "/* On hover, darken the color of the background */\n",
              "#sk-container-id-1 div.sk-label:hover label.sk-toggleable__label {\n",
              "  color: var(--sklearn-color-text);\n",
              "  background-color: var(--sklearn-color-unfitted-level-2);\n",
              "}\n",
              "\n",
              "/* Label box, darken color on hover, fitted */\n",
              "#sk-container-id-1 div.sk-label.fitted:hover label.sk-toggleable__label.fitted {\n",
              "  color: var(--sklearn-color-text);\n",
              "  background-color: var(--sklearn-color-fitted-level-2);\n",
              "}\n",
              "\n",
              "/* Estimator label */\n",
              "\n",
              "#sk-container-id-1 div.sk-label label {\n",
              "  font-family: monospace;\n",
              "  font-weight: bold;\n",
              "  display: inline-block;\n",
              "  line-height: 1.2em;\n",
              "}\n",
              "\n",
              "#sk-container-id-1 div.sk-label-container {\n",
              "  text-align: center;\n",
              "}\n",
              "\n",
              "/* Estimator-specific */\n",
              "#sk-container-id-1 div.sk-estimator {\n",
              "  font-family: monospace;\n",
              "  border: 1px dotted var(--sklearn-color-border-box);\n",
              "  border-radius: 0.25em;\n",
              "  box-sizing: border-box;\n",
              "  margin-bottom: 0.5em;\n",
              "  /* unfitted */\n",
              "  background-color: var(--sklearn-color-unfitted-level-0);\n",
              "}\n",
              "\n",
              "#sk-container-id-1 div.sk-estimator.fitted {\n",
              "  /* fitted */\n",
              "  background-color: var(--sklearn-color-fitted-level-0);\n",
              "}\n",
              "\n",
              "/* on hover */\n",
              "#sk-container-id-1 div.sk-estimator:hover {\n",
              "  /* unfitted */\n",
              "  background-color: var(--sklearn-color-unfitted-level-2);\n",
              "}\n",
              "\n",
              "#sk-container-id-1 div.sk-estimator.fitted:hover {\n",
              "  /* fitted */\n",
              "  background-color: var(--sklearn-color-fitted-level-2);\n",
              "}\n",
              "\n",
              "/* Specification for estimator info (e.g. \"i\" and \"?\") */\n",
              "\n",
              "/* Common style for \"i\" and \"?\" */\n",
              "\n",
              ".sk-estimator-doc-link,\n",
              "a:link.sk-estimator-doc-link,\n",
              "a:visited.sk-estimator-doc-link {\n",
              "  float: right;\n",
              "  font-size: smaller;\n",
              "  line-height: 1em;\n",
              "  font-family: monospace;\n",
              "  background-color: var(--sklearn-color-background);\n",
              "  border-radius: 1em;\n",
              "  height: 1em;\n",
              "  width: 1em;\n",
              "  text-decoration: none !important;\n",
              "  margin-left: 1ex;\n",
              "  /* unfitted */\n",
              "  border: var(--sklearn-color-unfitted-level-1) 1pt solid;\n",
              "  color: var(--sklearn-color-unfitted-level-1);\n",
              "}\n",
              "\n",
              ".sk-estimator-doc-link.fitted,\n",
              "a:link.sk-estimator-doc-link.fitted,\n",
              "a:visited.sk-estimator-doc-link.fitted {\n",
              "  /* fitted */\n",
              "  border: var(--sklearn-color-fitted-level-1) 1pt solid;\n",
              "  color: var(--sklearn-color-fitted-level-1);\n",
              "}\n",
              "\n",
              "/* On hover */\n",
              "div.sk-estimator:hover .sk-estimator-doc-link:hover,\n",
              ".sk-estimator-doc-link:hover,\n",
              "div.sk-label-container:hover .sk-estimator-doc-link:hover,\n",
              ".sk-estimator-doc-link:hover {\n",
              "  /* unfitted */\n",
              "  background-color: var(--sklearn-color-unfitted-level-3);\n",
              "  color: var(--sklearn-color-background);\n",
              "  text-decoration: none;\n",
              "}\n",
              "\n",
              "div.sk-estimator.fitted:hover .sk-estimator-doc-link.fitted:hover,\n",
              ".sk-estimator-doc-link.fitted:hover,\n",
              "div.sk-label-container:hover .sk-estimator-doc-link.fitted:hover,\n",
              ".sk-estimator-doc-link.fitted:hover {\n",
              "  /* fitted */\n",
              "  background-color: var(--sklearn-color-fitted-level-3);\n",
              "  color: var(--sklearn-color-background);\n",
              "  text-decoration: none;\n",
              "}\n",
              "\n",
              "/* Span, style for the box shown on hovering the info icon */\n",
              ".sk-estimator-doc-link span {\n",
              "  display: none;\n",
              "  z-index: 9999;\n",
              "  position: relative;\n",
              "  font-weight: normal;\n",
              "  right: .2ex;\n",
              "  padding: .5ex;\n",
              "  margin: .5ex;\n",
              "  width: min-content;\n",
              "  min-width: 20ex;\n",
              "  max-width: 50ex;\n",
              "  color: var(--sklearn-color-text);\n",
              "  box-shadow: 2pt 2pt 4pt #999;\n",
              "  /* unfitted */\n",
              "  background: var(--sklearn-color-unfitted-level-0);\n",
              "  border: .5pt solid var(--sklearn-color-unfitted-level-3);\n",
              "}\n",
              "\n",
              ".sk-estimator-doc-link.fitted span {\n",
              "  /* fitted */\n",
              "  background: var(--sklearn-color-fitted-level-0);\n",
              "  border: var(--sklearn-color-fitted-level-3);\n",
              "}\n",
              "\n",
              ".sk-estimator-doc-link:hover span {\n",
              "  display: block;\n",
              "}\n",
              "\n",
              "/* \"?\"-specific style due to the `<a>` HTML tag */\n",
              "\n",
              "#sk-container-id-1 a.estimator_doc_link {\n",
              "  float: right;\n",
              "  font-size: 1rem;\n",
              "  line-height: 1em;\n",
              "  font-family: monospace;\n",
              "  background-color: var(--sklearn-color-background);\n",
              "  border-radius: 1rem;\n",
              "  height: 1rem;\n",
              "  width: 1rem;\n",
              "  text-decoration: none;\n",
              "  /* unfitted */\n",
              "  color: var(--sklearn-color-unfitted-level-1);\n",
              "  border: var(--sklearn-color-unfitted-level-1) 1pt solid;\n",
              "}\n",
              "\n",
              "#sk-container-id-1 a.estimator_doc_link.fitted {\n",
              "  /* fitted */\n",
              "  border: var(--sklearn-color-fitted-level-1) 1pt solid;\n",
              "  color: var(--sklearn-color-fitted-level-1);\n",
              "}\n",
              "\n",
              "/* On hover */\n",
              "#sk-container-id-1 a.estimator_doc_link:hover {\n",
              "  /* unfitted */\n",
              "  background-color: var(--sklearn-color-unfitted-level-3);\n",
              "  color: var(--sklearn-color-background);\n",
              "  text-decoration: none;\n",
              "}\n",
              "\n",
              "#sk-container-id-1 a.estimator_doc_link.fitted:hover {\n",
              "  /* fitted */\n",
              "  background-color: var(--sklearn-color-fitted-level-3);\n",
              "}\n",
              "</style><div id=\"sk-container-id-1\" class=\"sk-top-container\"><div class=\"sk-text-repr-fallback\"><pre>LinearRegression()</pre><b>In a Jupyter environment, please rerun this cell to show the HTML representation or trust the notebook. <br />On GitHub, the HTML representation is unable to render, please try loading this page with nbviewer.org.</b></div><div class=\"sk-container\" hidden><div class=\"sk-item\"><div class=\"sk-estimator fitted sk-toggleable\"><input class=\"sk-toggleable__control sk-hidden--visually\" id=\"sk-estimator-id-1\" type=\"checkbox\" checked><label for=\"sk-estimator-id-1\" class=\"sk-toggleable__label fitted sk-toggleable__label-arrow fitted\">&nbsp;&nbsp;LinearRegression<a class=\"sk-estimator-doc-link fitted\" rel=\"noreferrer\" target=\"_blank\" href=\"https://scikit-learn.org/1.5/modules/generated/sklearn.linear_model.LinearRegression.html\">?<span>Documentation for LinearRegression</span></a><span class=\"sk-estimator-doc-link fitted\">i<span>Fitted</span></span></label><div class=\"sk-toggleable__content fitted\"><pre>LinearRegression()</pre></div> </div></div></div></div>"
            ],
            "text/plain": [
              "LinearRegression()"
            ]
          },
          "execution_count": 23,
          "metadata": {},
          "output_type": "execute_result"
        }
      ],
      "source": [
        "lin1.fit(Xsample, ysample)"
      ]
    },
    {
      "cell_type": "markdown",
      "metadata": {
        "id": "SVr4kbIcC1KW"
      },
      "source": [
        "훈련된 모델이 알아낸 최적 선형 모델의 절편과 기울기는 아래 두 속성에 저장된다.\n",
        "\n",
        "* `intercept_[0]`: 직선의 절편\n",
        "* `coef_[0]`: 직선의 기울기"
      ]
    },
    {
      "cell_type": "code",
      "execution_count": null,
      "metadata": {
        "colab": {
          "base_uri": "https://localhost:8080/"
        },
        "id": "gK4XWEYdC1KW",
        "outputId": "01e3a90b-7197-46a7-d657-8d112b1e7be2"
      },
      "outputs": [
        {
          "name": "stdout",
          "output_type": "stream",
          "text": [
            "절편:\t 4.853052800266435\n",
            "기울기:\t 4.9115445891584845e-05\n"
          ]
        }
      ],
      "source": [
        "t0, t1 = lin1.intercept_[0], lin1.coef_[0][0]\n",
        "\n",
        "print(f\"절편:\\t {t0}\")\n",
        "print(f\"기울기:\\t {t1}\")"
      ]
    },
    {
      "cell_type": "markdown",
      "metadata": {
        "id": "ib2Rs7KsAn9j"
      },
      "source": [
        "구해진 기울기와 절편을 이용하여 산점도와 함께 직선을 그리면 다음과 같다."
      ]
    },
    {
      "cell_type": "code",
      "execution_count": null,
      "metadata": {
        "colab": {
          "base_uri": "https://localhost:8080/",
          "height": 321
        },
        "id": "GM3jaIv1fLIl",
        "outputId": "90fd7dad-0368-44db-8a6a-1feaaebb4250"
      },
      "outputs": [
        {
          "data": {
            "image/png": "[encoded data removed]",
            "text/plain": [
              "<Figure size 500x300 with 1 Axes>"
            ]
          },
          "metadata": {},
          "output_type": "display_data"
        }
      ],
      "source": [
        "# 산점도\n",
        "sample_data.plot(kind='scatter', x=\"GDP per capita\", y='Life satisfaction', figsize=(5,3))\n",
        "plt.xlabel(\"GDP per capita (USD)\")\n",
        "plt.axis([0, 60000, 0, 10])\n",
        "\n",
        "# 직선 그리기\n",
        "X=np.linspace(0, 60000, 1000)\n",
        "plt.plot(X, t0 + t1*X, \"b\")\n",
        "\n",
        "# 직선의 절편과 기울기 정보 명시\n",
        "plt.text(5000, 3.1, r\"$\\theta_0 = 4.85$\", fontsize=14, color=\"b\")\n",
        "plt.text(5000, 2.2, r\"$\\theta_1 = 4.91 \\times 10^{-5}$\", fontsize=14, color=\"b\")\n",
        "\n",
        "plt.show()"
      ]
    },
    {
      "cell_type": "markdown",
      "metadata": {
        "id": "ot5QhLe0BR5w"
      },
      "source": [
        "### 6단계: 모델 활용"
      ]
    },
    {
      "cell_type": "markdown",
      "metadata": {
        "id": "fnq-t9qZBZd-"
      },
      "source": [
        "한 국가의 1인당 GDP가 알려졌을 때\n",
        "훈련된 모델에 포함된 $\\theta_0$ 와 $\\theta_1$ 을 이용하여\n",
        "해당 국가의 삶의 만족도를 예측한다.\n",
        "예를 들어, OECD에 속하지 않는 베트남(Vietnam)의 1인당 GDP를 이용하여\n",
        "베트남 국민의 삶의 만족도를 예측한다."
      ]
    },
    {
      "cell_type": "code",
      "execution_count": null,
      "metadata": {
        "id": "nhnfS8jQfLIl"
      },
      "outputs": [],
      "source": [
        "# vietnam_gdp_per_capita_2015 = gdp_per_capita_2015.loc[\"Vietnam\"][\"GDP per capita\"]\n",
        "\n",
        "vietnam_gdp_per_capita_2015 = 2088.344"
      ]
    },
    {
      "cell_type": "markdown",
      "metadata": {
        "id": "11KnQQmKCbQq"
      },
      "source": [
        "훈련된 모델의 `predict()` 메서드가 아래 식을 이용하여 삶의 만족도를 계산한다.\n",
        "\n",
        "$$\n",
        "\\theta_0 + (\\text{1인당GDP}) \\cdot \\theta_1\n",
        "$$\n",
        "\n",
        "베트남 국민의 삶의 만족도는 4.96 정도로 예측된다."
      ]
    },
    {
      "cell_type": "code",
      "execution_count": null,
      "metadata": {
        "colab": {
          "base_uri": "https://localhost:8080/"
        },
        "id": "a_dU9MTwB72q",
        "outputId": "17750af6-5884-4a12-959e-4f8c69a8e669"
      },
      "outputs": [
        {
          "data": {
            "text/plain": [
              "array([[4.95562275]])"
            ]
          },
          "execution_count": 27,
          "metadata": {},
          "output_type": "execute_result"
        }
      ],
      "source": [
        "lin1.predict([[vietnam_gdp_per_capita_2015]])"
      ]
    },
    {
      "cell_type": "markdown",
      "metadata": {
        "id": "cM8uoKc_GE-X"
      },
      "source": [
        "결과가 2차원 어레이로 표현됨에 주의한다.\n",
        "이는 `predict()` 메서드가 여러 개의 입력값에 대해 동시에 예측값을 계산하기 때문이다.\n",
        "위 코드에서는 한 개의 입력값에 대한 예측값인 `[4.95562275]`를 계산하였다.\n",
        "\n",
        "이 예측값 또한 1차원 어레이로 표시된 이유는 머신러닝 모델은 기본적으로 하나의 입력값에 대해\n",
        "여러 종류의 예측값을 계산하기 때문이다.\n",
        "그리고 여기서는 삶의 만족도 한 종류의 값만 예측하기 때문이 길이가 1인 어레이가 계산되었다.\n",
        "따라서 베트남의 1인당 GDP는 인덱싱으로 바로 확인된다."
      ]
    },
    {
      "cell_type": "code",
      "execution_count": null,
      "metadata": {
        "colab": {
          "base_uri": "https://localhost:8080/"
        },
        "id": "OBcmBbJAGE-X",
        "outputId": "17750af6-5884-4a12-959e-4f8c69a8e669"
      },
      "outputs": [
        {
          "name": "stdout",
          "output_type": "stream",
          "text": [
            "베트남 삶의 만족도: 4.955622747001451\n"
          ]
        }
      ],
      "source": [
        "vietnam_predicted_life_satisfaction = lin1.predict([[vietnam_gdp_per_capita_2015]])[0, 0]\n",
        "\n",
        "print(\"베트남 삶의 만족도:\", vietnam_predicted_life_satisfaction)"
      ]
    },
    {
      "cell_type": "markdown",
      "metadata": {
        "id": "tseGO4MOh3ZX"
      },
      "source": [
        "## 머신러닝의 모델 훈련의 어려움"
      ]
    },
    {
      "cell_type": "markdown",
      "metadata": {
        "id": "Eh3SL2kpC1KX"
      },
      "source": [
        "머신러닝 알고리즘을 훈련시키다보면 다양한 어려움에 부딪힌다.\n",
        "여기서는 선형 회귀 모델이 훈련셋에 민감하게 반응하는 것을 보인다."
      ]
    },
    {
      "cell_type": "markdown",
      "metadata": {
        "id": "aPeIcRu5FbCg"
      },
      "source": [
        "### 훈련 데이터 추가"
      ]
    },
    {
      "cell_type": "markdown",
      "metadata": {
        "id": "jO1x_6gBFllU"
      },
      "source": [
        "앞서 제외시킨 7개 국가의 데이터를 포함해서 선형 회귀 모델을 훈련시켜 보자.\n",
        "제외된 7개 국가의 데이터는 다음과 같다.\n",
        "\n",
        "* 브라질(Brazil)\n",
        "* 멕시코(Mexico)\n",
        "* 칠레(Chile)\n",
        "* 체코(Czech Repulic)\n",
        "* 노르웨이(Norway)\n",
        "* 스위스(Switzerland)\n",
        "* 룩셈부르크(Luxembourg)"
      ]
    },
    {
      "cell_type": "code",
      "execution_count": null,
      "metadata": {
        "colab": {
          "base_uri": "https://localhost:8080/",
          "height": 300
        },
        "id": "fpEMdt8cfLIn",
        "outputId": "2536625a-795b-46bd-a721-88f8c63f1bff"
      },
      "outputs": [
        {
          "data": {
            "text/html": [
              "<div>\n",
              "<style scoped>\n",
              "    .dataframe tbody tr th:only-of-type {\n",
              "        vertical-align: middle;\n",
              "    }\n",
              "\n",
              "    .dataframe tbody tr th {\n",
              "        vertical-align: top;\n",
              "    }\n",
              "\n",
              "    .dataframe thead th {\n",
              "        text-align: right;\n",
              "    }\n",
              "</style>\n",
              "<table border=\"1\" class=\"dataframe\">\n",
              "  <thead>\n",
              "    <tr style=\"text-align: right;\">\n",
              "      <th></th>\n",
              "      <th>GDP per capita</th>\n",
              "      <th>Life satisfaction</th>\n",
              "    </tr>\n",
              "    <tr>\n",
              "      <th>Country</th>\n",
              "      <th></th>\n",
              "      <th></th>\n",
              "    </tr>\n",
              "  </thead>\n",
              "  <tbody>\n",
              "    <tr>\n",
              "      <th>Brazil</th>\n",
              "      <td>8669.998</td>\n",
              "      <td>7.0</td>\n",
              "    </tr>\n",
              "    <tr>\n",
              "      <th>Mexico</th>\n",
              "      <td>9009.280</td>\n",
              "      <td>6.7</td>\n",
              "    </tr>\n",
              "    <tr>\n",
              "      <th>Chile</th>\n",
              "      <td>13340.905</td>\n",
              "      <td>6.7</td>\n",
              "    </tr>\n",
              "    <tr>\n",
              "      <th>Czech Republic</th>\n",
              "      <td>17256.918</td>\n",
              "      <td>6.5</td>\n",
              "    </tr>\n",
              "    <tr>\n",
              "      <th>Norway</th>\n",
              "      <td>74822.106</td>\n",
              "      <td>7.4</td>\n",
              "    </tr>\n",
              "    <tr>\n",
              "      <th>Switzerland</th>\n",
              "      <td>80675.308</td>\n",
              "      <td>7.5</td>\n",
              "    </tr>\n",
              "    <tr>\n",
              "      <th>Luxembourg</th>\n",
              "      <td>101994.093</td>\n",
              "      <td>6.9</td>\n",
              "    </tr>\n",
              "  </tbody>\n",
              "</table>\n",
              "</div>"
            ],
            "text/plain": [
              "                GDP per capita  Life satisfaction\n",
              "Country                                          \n",
              "Brazil                8669.998                7.0\n",
              "Mexico                9009.280                6.7\n",
              "Chile                13340.905                6.7\n",
              "Czech Republic       17256.918                6.5\n",
              "Norway               74822.106                7.4\n",
              "Switzerland          80675.308                7.5\n",
              "Luxembourg          101994.093                6.9"
            ]
          },
          "execution_count": 29,
          "metadata": {},
          "output_type": "execute_result"
        }
      ],
      "source": [
        "missing_data"
      ]
    },
    {
      "cell_type": "markdown",
      "metadata": {
        "id": "LR_yQU7FG7-A"
      },
      "source": [
        "아래 좌표는 7개 국가명을 아래 그래프에서 표기할 때 사용할 좌표이다."
      ]
    },
    {
      "cell_type": "code",
      "execution_count": null,
      "metadata": {
        "id": "mzD3BA8X2ZtN"
      },
      "outputs": [],
      "source": [
        "position_text2 = {\n",
        "    \"Brazil\": (1000, 9.0),\n",
        "    \"Mexico\": (11000, 9.0),\n",
        "    \"Chile\": (25000, 9.0),\n",
        "    \"Czech Republic\": (35000, 9.0),\n",
        "    \"Norway\": (60000, 3),\n",
        "    \"Switzerland\": (72000, 3.0),\n",
        "    \"Luxembourg\": (90000, 3.0),\n",
        "}"
      ]
    },
    {
      "cell_type": "markdown",
      "metadata": {
        "id": "HKiZxo9OHE75"
      },
      "source": [
        "7개 국가를 포함한 전체 훈련 데이터 셋을 이용하여 훈련한 결과를\n",
        "7개 국가를 제외했을 때의 훈련 결과와 비교한다.\n",
        "\n",
        "* 검정 실선: 7개 국가 포함 예측 선형 모델\n",
        "* 파랑 점선: 7개 국가 제외 예측 선형 모델"
      ]
    },
    {
      "cell_type": "code",
      "execution_count": null,
      "metadata": {
        "colab": {
          "base_uri": "https://localhost:8080/",
          "height": 321
        },
        "id": "ii9DczeMfLIn",
        "outputId": "cfebe55b-76bd-470c-d212-4c16e14bd5f6"
      },
      "outputs": [
        {
          "data": {
            "image/png": "[encoded data removed]",
            "text/plain": [
              "<Figure size 800x300 with 1 Axes>"
            ]
          },
          "metadata": {},
          "output_type": "display_data"
        }
      ],
      "source": [
        "# 7개 국가를 제외한 국가들의 산점도 (파랑색 점)\n",
        "sample_data.plot(kind='scatter', x=\"GDP per capita\", y='Life satisfaction', figsize=(8,3))\n",
        "plt.axis([0, 110000, 0, 10])\n",
        "\n",
        "# 7개 국가 산점도(빨강 점)\n",
        "for country, pos_text in position_text2.items():\n",
        "    pos_data_x, pos_data_y = missing_data.loc[country]\n",
        "    # 7개 국가명 표기\n",
        "    plt.annotate(country, xy=(pos_data_x, pos_data_y), xytext=pos_text,\n",
        "            arrowprops=dict(facecolor='black', width=0.5, shrink=0.1, headwidth=5))\n",
        "    plt.plot(pos_data_x, pos_data_y, \"rs\")\n",
        "\n",
        "# 7개 국가 제외 예측 선형 모델 그래프 (파랑 점선)\n",
        "X=np.linspace(0, 110000, 1000)\n",
        "plt.plot(X, t0 + t1*X, \"b:\")\n",
        "\n",
        "# 7개 국가 포함 선형 회귀 모델 훈련 및 예측\n",
        "lin_reg_full = LinearRegression()\n",
        "Xfull = np.c_[oecd_country_stats[\"GDP per capita\"]]\n",
        "yfull = np.c_[oecd_country_stats[\"Life satisfaction\"]]\n",
        "lin_reg_full.fit(Xfull, yfull)\n",
        "\n",
        "# 7개 국가 포함 예측 선형 모델 그래프(검정 실선)\n",
        "t0full, t1full = lin_reg_full.intercept_[0], lin_reg_full.coef_[0][0]\n",
        "X = np.linspace(0, 110000, 1000)\n",
        "plt.plot(X, t0full + t1full * X, \"k\")\n",
        "plt.xlabel(\"GDP per capita (USD)\")\n",
        "\n",
        "plt.show()"
      ]
    },
    {
      "cell_type": "markdown",
      "metadata": {
        "id": "_roDoCs0C1KY"
      },
      "source": [
        "결론적으로 7개 국가를 포함하는 경우와 그렇지 않은 경우\n",
        "상당히 다른 선형 회귀 모델이 훈련된다.\n",
        "즉, 모델 훈련이 훈련 데이터 셋에 민감하게 반응하는 **과대 적합** 현상이 발생한다.\n",
        "이런 의미에서 선형 회귀 모델은 1인당 GDP와 삶의 만족도 사이의 관계를 모델링 하기에 부적절하다고 말할 수 있다."
      ]
    }
  ],
  "metadata": {
    "colab": {
      "provenance": [],
      "include_colab_link": true
    },
    "kernelspec": {
      "display_name": "Python 3 (ipykernel)",
      "language": "python",
      "name": "python3"
    },
    "language_info": {
      "codemirror_mode": {
        "name": "ipython",
        "version": 3
      },
      "file_extension": ".py",
      "mimetype": "text/x-python",
      "name": "python",
      "nbconvert_exporter": "python",
      "pygments_lexer": "ipython3",
      "version": "3.12.2"
    },
    "nav_menu": {},
    "toc": {
      "navigate_menu": true,
      "number_sections": true,
      "sideBar": true,
      "threshold": 6,
      "toc_cell": false,
      "toc_section_display": "block",
      "toc_window_display": true
    },
    "toc_position": {
      "height": "616px",
      "left": "0px",
      "right": "20px",
      "top": "106px",
      "width": "213px"
    }
  },
  "nbformat": 4,
  "nbformat_minor": 0
}